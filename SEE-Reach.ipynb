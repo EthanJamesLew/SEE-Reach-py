{
 "cells": [
  {
   "cell_type": "markdown",
   "id": "9dcd1e02",
   "metadata": {},
   "source": [
    "## Write a Software Controller Implementation\n",
    "\n",
    "For now, you have to write the program directly in the target high-level AST. The language is somewhat close to Rust, although it is entirely expression-based (no statements). In this program, we\n",
    "\n",
    "* write out controller. The control policy observes the pendulum angle and applies a proportional control policy to it.\n",
    "* write our plant model. The plant is a 2D system, and we call the controller insider the function."
   ]
  },
  {
   "cell_type": "code",
   "execution_count": 1,
   "id": "dd99fa64",
   "metadata": {},
   "outputs": [
    {
     "name": "stdout",
     "output_type": "stream",
     "text": [
      "fn pendulum_dynamics(theta: real, omega: real) -> tuple {\n",
      "    {\n",
      "        theta_dot: real = omega;\n",
      "        omega_dot: real = controller(theta) + -9.81 / 2.0 * sin(theta);\n",
      "        return (theta_dot, omega_dot)\n",
      "    }\n",
      "}\n",
      "fn controller(x: real) -> real {\n",
      "    {\n",
      "        u: real = -1.0 * x;\n",
      "        if u < -5.0 {\n",
      "            return -5.0\n",
      "        } else {\n",
      "            if u > 5.0 {\n",
      "                return 5.0\n",
      "            } else {\n",
      "                return u\n",
      "            }\n",
      "        }\n",
      "    }\n",
      "}\n"
     ]
    }
   ],
   "source": [
    "from seereach.lang import *\n",
    "from seereach.context import *\n",
    "from seereach.pprint import HLTargetPrinter, EvalResultPrinter\n",
    "\n",
    "\n",
    "# Define pendulum constants\n",
    "m = 1.0  # mass of pendulum\n",
    "g = 9.81  # gravity constant\n",
    "l = 2.0  # length of pendulum\n",
    "x = TypedVariable(Name(\"x\"), Type.REAL)  # plant state\n",
    "u = TypedVariable(Name(\"u\"), Type.REAL)  # controller output\n",
    "kp = Literal(Value(Type.REAL, -1.0))  # proportional gain\n",
    "\n",
    "\n",
    "controller_body = Block(\n",
    "    [\n",
    "        Assignment(u, BinaryOp(kp, Operator.MUL, Variable(x.name))),  # u = kp * x\n",
    "        Conditional(\n",
    "            BinaryOp(Variable(u.name), Operator.LESS, Literal(Value(Type.REAL, -5.0))),\n",
    "            Return(Literal(Value(Type.REAL, -5.0))),\n",
    "            Conditional(\n",
    "                BinaryOp(\n",
    "                    Variable(u.name),\n",
    "                    Operator.GREATER,\n",
    "                    Literal(Value(Type.REAL, 5.0)),\n",
    "                ),\n",
    "                Return(Literal(Value(Type.REAL, 5.0))),\n",
    "                Return(Variable(u.name)),\n",
    "            ),\n",
    "        ),\n",
    "    ]\n",
    ")\n",
    "\n",
    "controller_function = Function(Name(\"controller\"), [x], Type.REAL, controller_body)\n",
    "\n",
    "# Define variables\n",
    "theta = TypedVariable(Name(\"theta\"), Type.REAL)  # angle\n",
    "omega = TypedVariable(Name(\"omega\"), Type.REAL)  # angular velocity\n",
    "\n",
    "# Define the pendulum dynamics\n",
    "dynamics_body = (\n",
    "    Block(\n",
    "        [\n",
    "            Assignment(\n",
    "                TypedVariable(Name(\"theta_dot\"), Type.REAL), Variable(Name(\"omega\"))\n",
    "            ),\n",
    "            Assignment(\n",
    "                TypedVariable(Name(\"omega_dot\"), Type.REAL),\n",
    "                BinaryOp(\n",
    "                    FunctionCall(Name(\"controller\"), [Variable(Name(\"theta\"))]),\n",
    "                    Operator.ADD,\n",
    "                    BinaryOp(\n",
    "                        BinaryOp(\n",
    "                            Literal(Value(Type.REAL, -g)),\n",
    "                            Operator.DIV,\n",
    "                            Literal(Value(Type.REAL, l)),\n",
    "                        ),\n",
    "                        Operator.MUL,\n",
    "                        UnaryOp(Operator.SIN, Variable(Name(\"theta\"))),\n",
    "                    ),\n",
    "                ),\n",
    "            ),\n",
    "            Return(TupleExpression([Variable(Name(\"theta_dot\")), Variable(Name(\"omega_dot\"))])),\n",
    "        ]\n",
    "    )\n",
    ")\n",
    "\n",
    "# Function for pendulum dynamics\n",
    "dynamics_func = Function(\n",
    "    Name(\"pendulum_dynamics\"), [theta, omega], Type.TUPLE, dynamics_body\n",
    ")\n",
    "\n",
    "# Program\n",
    "program = Program(\n",
    "    {\n",
    "        dynamics_func.name: dynamics_func,\n",
    "        controller_function.name: controller_function,\n",
    "    },\n",
    "    dynamics_func.name,\n",
    ")\n",
    "\n",
    "# pretty print the program\n",
    "print(HLTargetPrinter().visit(program))"
   ]
  },
  {
   "cell_type": "code",
   "execution_count": 10,
   "id": "878a5c19",
   "metadata": {},
   "outputs": [],
   "source": [
    "pendulum_program = \"\"\"\n",
    "fn pendulum_dynamics(theta: real, omega: real) -> tuple {\n",
    "    theta_dot: real = omega;\n",
    "    omega_dot: real = controller(theta) + -9.81 / 2.0 * sin(theta);\n",
    "    return (theta_dot, omega_dot)\n",
    "}\n",
    "\n",
    "fn controller(x: real) -> real {\n",
    "    u: real = -1.0 * x;\n",
    "    if u < -5.0 {\n",
    "        return -5.0\n",
    "    } else {\n",
    "        if u > 5.0 {\n",
    "            return 5.0\n",
    "        } else {\n",
    "            return u\n",
    "        }\n",
    "    }\n",
    "}\n",
    "\"\"\""
   ]
  },
  {
   "cell_type": "code",
   "execution_count": 11,
   "id": "4476d4fb",
   "metadata": {},
   "outputs": [],
   "source": [
    "from seereach.parser import SReachParser\n",
    "\n",
    "program = SReachParser.parse(pendulum_program)"
   ]
  },
  {
   "cell_type": "markdown",
   "id": "af86dccd",
   "metadata": {},
   "source": [
    "## Symbolic Execution"
   ]
  },
  {
   "cell_type": "code",
   "execution_count": 9,
   "id": "a297192c",
   "metadata": {},
   "outputs": [
    {
     "ename": "AttributeError",
     "evalue": "'NoneType' object has no attribute 'functions'",
     "output_type": "error",
     "traceback": [
      "\u001b[0;31m---------------------------------------------------------------------------\u001b[0m",
      "\u001b[0;31mAttributeError\u001b[0m                            Traceback (most recent call last)",
      "Cell \u001b[0;32mIn[9], line 20\u001b[0m\n\u001b[1;32m      9\u001b[0m initial_context \u001b[38;5;241m=\u001b[39m Context(\n\u001b[1;32m     10\u001b[0m     FunctionCall(\n\u001b[1;32m     11\u001b[0m         Name(\u001b[38;5;124m\"\u001b[39m\u001b[38;5;124mpendulum_dynamics\u001b[39m\u001b[38;5;124m\"\u001b[39m),\n\u001b[0;32m   (...)\u001b[0m\n\u001b[1;32m     16\u001b[0m     )\n\u001b[1;32m     17\u001b[0m )\n\u001b[1;32m     19\u001b[0m \u001b[38;5;66;03m# Execute the program\u001b[39;00m\n\u001b[0;32m---> 20\u001b[0m r \u001b[38;5;241m=\u001b[39m initial_context\u001b[38;5;241m.\u001b[39mexecute(program)\n",
      "File \u001b[0;32m~/SEE-Reach-py/seereach/context.py:132\u001b[0m, in \u001b[0;36mContext.execute\u001b[0;34m(self, program)\u001b[0m\n\u001b[1;32m    129\u001b[0m     \u001b[38;5;28;01mreturn\u001b[39;00m rets\n\u001b[1;32m    131\u001b[0m \u001b[38;5;28;01melif\u001b[39;00m \u001b[38;5;28misinstance\u001b[39m(\u001b[38;5;28mself\u001b[39m\u001b[38;5;241m.\u001b[39mexpression, FunctionCall):\n\u001b[0;32m--> 132\u001b[0m     function \u001b[38;5;241m=\u001b[39m program\u001b[38;5;241m.\u001b[39mfunctions[\u001b[38;5;28mself\u001b[39m\u001b[38;5;241m.\u001b[39mexpression\u001b[38;5;241m.\u001b[39mfunction_name]\n\u001b[1;32m    133\u001b[0m     function_context \u001b[38;5;241m=\u001b[39m Context(\n\u001b[1;32m    134\u001b[0m         function\u001b[38;5;241m.\u001b[39mbody, path_condition\u001b[38;5;241m=\u001b[39m\u001b[38;5;28mself\u001b[39m\u001b[38;5;241m.\u001b[39mpath_condition\n\u001b[1;32m    135\u001b[0m     )\n\u001b[1;32m    136\u001b[0m     \u001b[38;5;28;01mfor\u001b[39;00m arg, param \u001b[38;5;129;01min\u001b[39;00m \u001b[38;5;28mzip\u001b[39m(\u001b[38;5;28mself\u001b[39m\u001b[38;5;241m.\u001b[39mexpression\u001b[38;5;241m.\u001b[39marguments, function\u001b[38;5;241m.\u001b[39mparameters):\n",
      "\u001b[0;31mAttributeError\u001b[0m: 'NoneType' object has no attribute 'functions'"
     ]
    }
   ],
   "source": [
    "# pretty print the program\n",
    "from seereach.z3convert import Z3SatConverter\n",
    "from seereach.sympyconvert import SymPyConverter\n",
    "import sympy as sp\n",
    "from IPython.display import display, Math, Latex\n",
    "\n",
    "\n",
    "# Create the initial context with symbolic variables 'theta' and 'omega'\n",
    "initial_context = Context(\n",
    "    FunctionCall(\n",
    "        Name(\"pendulum_dynamics\"),\n",
    "        [\n",
    "            SVariable(Name(\"theta\"), variable_type=Type.REAL),\n",
    "            SVariable(Name(\"omega\"), variable_type=Type.REAL),\n",
    "        ],\n",
    "    )\n",
    ")\n",
    "\n",
    "# Execute the program\n",
    "r = initial_context.execute(program)\n"
   ]
  },
  {
   "cell_type": "code",
   "execution_count": 5,
   "id": "ffa79226",
   "metadata": {},
   "outputs": [],
   "source": [
    "def simplify_evalresult(result: EvalResult):\n",
    "    \"\"\"apply a simplifier that connect the symbolic expression generated by the SEE to SymPy\"\"\"\n",
    "    from functools import reduce\n",
    "    spc = SymPyConverter()\n",
    "    # and all the path conditions together\n",
    "    condition = reduce(lambda x, y: SBinaryOp(x, Operator.AND, y), result.path_condition)\n",
    "    return EvalResult(\n",
    "        spc.simplify(result.expr_eval),\n",
    "        [spc.simplify(condition)], \n",
    "        result.is_return,\n",
    "    )"
   ]
  },
  {
   "cell_type": "code",
   "execution_count": 6,
   "id": "287d3953",
   "metadata": {},
   "outputs": [
    {
     "data": {
      "text/latex": [
       "$\\displaystyle \\theta > 5.0$"
      ],
      "text/plain": [
       "<IPython.core.display.Math object>"
      ]
     },
     "metadata": {},
     "output_type": "display_data"
    },
    {
     "data": {
      "text/latex": [
       "$\\displaystyle \\left[\\begin{matrix}\\theta\\\\\\omega\\end{matrix}\\right]=\\left[\\begin{matrix}\\omega\\\\- 7.405 \\sin{\\left(\\theta \\right)}\\end{matrix}\\right]$"
      ],
      "text/plain": [
       "<IPython.core.display.Math object>"
      ]
     },
     "metadata": {},
     "output_type": "display_data"
    },
    {
     "data": {
      "text/latex": [
       "$\\displaystyle \\theta < -5.0$"
      ],
      "text/plain": [
       "<IPython.core.display.Math object>"
      ]
     },
     "metadata": {},
     "output_type": "display_data"
    },
    {
     "data": {
      "text/latex": [
       "$\\displaystyle \\left[\\begin{matrix}\\theta\\\\\\omega\\end{matrix}\\right]=\\left[\\begin{matrix}\\omega\\\\- 2.405 \\sin{\\left(\\theta \\right)}\\end{matrix}\\right]$"
      ],
      "text/plain": [
       "<IPython.core.display.Math object>"
      ]
     },
     "metadata": {},
     "output_type": "display_data"
    },
    {
     "data": {
      "text/latex": [
       "$\\displaystyle \\theta \\geq -5.0 \\wedge \\theta \\leq 5.0$"
      ],
      "text/plain": [
       "<IPython.core.display.Math object>"
      ]
     },
     "metadata": {},
     "output_type": "display_data"
    },
    {
     "data": {
      "text/latex": [
       "$\\displaystyle \\left[\\begin{matrix}\\theta\\\\\\omega\\end{matrix}\\right]=\\left[\\begin{matrix}\\omega\\\\\\left(- 0.5 \\theta - 4.905\\right) \\sin{\\left(\\theta \\right)}\\end{matrix}\\right]$"
      ],
      "text/plain": [
       "<IPython.core.display.Math object>"
      ]
     },
     "metadata": {},
     "output_type": "display_data"
    }
   ],
   "source": [
    "# collect the lhs from the initial context\n",
    "spc = SymPyConverter()\n",
    "lhs = sp.latex(sp.Matrix([\n",
    "    sp.symbols(v.name) for v in initial_context.expression.arguments \\\n",
    "    if isinstance(v, SVariable)]))\n",
    "\n",
    "# print the LaTeX equation\n",
    "for result in r:\n",
    "    rs = simplify_evalresult(result)\n",
    "    display(Math(spc.latex(rs.path_condition[0])))\n",
    "    display(Math(lhs + \"=\" + spc.latex(rs.expr_eval)))"
   ]
  },
  {
   "cell_type": "code",
   "execution_count": null,
   "id": "20bcbfc1",
   "metadata": {},
   "outputs": [],
   "source": []
  },
  {
   "cell_type": "code",
   "execution_count": null,
   "id": "248217c7",
   "metadata": {},
   "outputs": [],
   "source": []
  },
  {
   "cell_type": "code",
   "execution_count": null,
   "id": "d7dc9c4e",
   "metadata": {},
   "outputs": [],
   "source": []
  }
 ],
 "metadata": {
  "kernelspec": {
   "display_name": "Python 3 (ipykernel)",
   "language": "python",
   "name": "python3"
  },
  "language_info": {
   "codemirror_mode": {
    "name": "ipython",
    "version": 3
   },
   "file_extension": ".py",
   "mimetype": "text/x-python",
   "name": "python",
   "nbconvert_exporter": "python",
   "pygments_lexer": "ipython3",
   "version": "3.11.3"
  }
 },
 "nbformat": 4,
 "nbformat_minor": 5
}
