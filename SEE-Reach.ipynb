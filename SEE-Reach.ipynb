{
 "cells": [
  {
   "cell_type": "markdown",
   "id": "9dcd1e02",
   "metadata": {},
   "source": [
    "## Write a Software Controller Implementation\n",
    "\n",
    "For now, you have to write the program directly in the target high-level AST. The language is somewhat close to Rust, although it is entirely expression-based (no statements). In this program, we\n",
    "\n",
    "* write out controller. The control policy observes the pendulum angle and applies a proportional control policy to it.\n",
    "* write our plant model. The plant is a 2D system, and we call the controller insider the function."
   ]
  },
  {
   "cell_type": "code",
   "execution_count": 1,
   "id": "878a5c19",
   "metadata": {},
   "outputs": [],
   "source": [
    "# write in the SEE-Reach target language\n",
    "pendulum_program = \"\"\"\n",
    "fn pendulum_dynamics(theta: real, omega: real, kp: real, kd: real) -> tuple {\n",
    "    // param theta: pendulum angle\n",
    "    // param omega: angular rate\n",
    "    // param kp: proportional gain\n",
    "    // param kd: derivative gain\n",
    "    \n",
    "    // get the torque output\n",
    "    let u: real = controller(theta, omega, kp, kd);\n",
    "    \n",
    "    // gravity and length parameters\n",
    "    let g: real = -9.81;\n",
    "    let l: real = 2.0;\n",
    "    \n",
    "    // state derivative\n",
    "    let thetap: real = omega;\n",
    "    let omegap: real = u + g / l * sin(theta);\n",
    "    return (thetap, omegap)\n",
    "}\n",
    "\n",
    "fn controller(x: real, omega: real, kp: real, kd: real) -> real {\n",
    "    // signal contributions from proportional and derivative\n",
    "    let up: real = -1.0 * kp * x;\n",
    "    let ud: real = -1.0 * kd * omega;\n",
    "    let u: real = up + ud;\n",
    "    \n",
    "    // also, calculate the feedforward term\n",
    "    let thetap: real = omega;\n",
    "    let omegap: real = u + g / l * sin(theta);\n",
    "    \n",
    "    // we are torque limited--u must be in [-5.0, 5.0]\n",
    "    if u < -5.0 {\n",
    "        return -5.0\n",
    "    } else {\n",
    "        if u > 5.0 {\n",
    "            return 5.0\n",
    "        } else {\n",
    "            return u\n",
    "        }\n",
    "    }\n",
    "}\n",
    "\"\"\""
   ]
  },
  {
   "cell_type": "code",
   "execution_count": 2,
   "id": "4476d4fb",
   "metadata": {},
   "outputs": [],
   "source": [
    "from seereach.parser import SReachParser\n",
    "\n",
    "# run the SEE-Reach parser\n",
    "program = SReachParser.parse(pendulum_program)"
   ]
  },
  {
   "cell_type": "markdown",
   "id": "af86dccd",
   "metadata": {},
   "source": [
    "## Symbolic Execution"
   ]
  },
  {
   "cell_type": "code",
   "execution_count": 3,
   "id": "a297192c",
   "metadata": {},
   "outputs": [
    {
     "ename": "KeyError",
     "evalue": "Name('g')",
     "output_type": "error",
     "traceback": [
      "\u001b[0;31m---------------------------------------------------------------------------\u001b[0m",
      "\u001b[0;31mKeyError\u001b[0m                                  Traceback (most recent call last)",
      "Cell \u001b[0;32mIn [3], line 16\u001b[0m\n\u001b[1;32m      8\u001b[0m \u001b[38;5;66;03m# can also pass in a mix of concrete and symbolic\u001b[39;00m\n\u001b[1;32m      9\u001b[0m signature \u001b[38;5;241m=\u001b[39m [\n\u001b[1;32m     10\u001b[0m     SVariable(\u001b[38;5;124m'\u001b[39m\u001b[38;5;124mtheta\u001b[39m\u001b[38;5;124m'\u001b[39m, Type\u001b[38;5;241m.\u001b[39mREAL), \n\u001b[1;32m     11\u001b[0m     SVariable(\u001b[38;5;124m'\u001b[39m\u001b[38;5;124momega\u001b[39m\u001b[38;5;124m'\u001b[39m, Type\u001b[38;5;241m.\u001b[39mREAL),\n\u001b[1;32m     12\u001b[0m     Literal(Value(Type\u001b[38;5;241m.\u001b[39mREAL, \u001b[38;5;241m1.0\u001b[39m)), \n\u001b[1;32m     13\u001b[0m     Literal(Value(Type\u001b[38;5;241m.\u001b[39mREAL, \u001b[38;5;241m0.2\u001b[39m))\n\u001b[1;32m     14\u001b[0m ]\n\u001b[0;32m---> 16\u001b[0m r \u001b[38;5;241m=\u001b[39m \u001b[43mfunction_symbolic_execution\u001b[49m\u001b[43m(\u001b[49m\u001b[43mprogram\u001b[49m\u001b[43m,\u001b[49m\u001b[43m \u001b[49m\u001b[38;5;124;43m'\u001b[39;49m\u001b[38;5;124;43mpendulum_dynamics\u001b[39;49m\u001b[38;5;124;43m'\u001b[39;49m\u001b[43m,\u001b[49m\u001b[43m \u001b[49m\u001b[43msignature\u001b[49m\u001b[43m \u001b[49m\u001b[43m)\u001b[49m\n",
      "File \u001b[0;32m~/see-reach-py/seereach/fanalysis.py:27\u001b[0m, in \u001b[0;36mfunction_symbolic_execution\u001b[0;34m(program, funname, signature_params)\u001b[0m\n\u001b[1;32m     19\u001b[0m initial_context \u001b[38;5;241m=\u001b[39m Context(\n\u001b[1;32m     20\u001b[0m     FunctionCall(\n\u001b[1;32m     21\u001b[0m         Name(funname),\n\u001b[1;32m     22\u001b[0m         signature_params,\n\u001b[1;32m     23\u001b[0m     )\n\u001b[1;32m     24\u001b[0m )\n\u001b[1;32m     26\u001b[0m \u001b[38;5;66;03m# Execute the program\u001b[39;00m\n\u001b[0;32m---> 27\u001b[0m \u001b[38;5;28;01mreturn\u001b[39;00m \u001b[43minitial_context\u001b[49m\u001b[38;5;241;43m.\u001b[39;49m\u001b[43mexecute\u001b[49m\u001b[43m(\u001b[49m\u001b[43mprogram\u001b[49m\u001b[43m)\u001b[49m\n",
      "File \u001b[0;32m~/see-reach-py/seereach/context.py:141\u001b[0m, in \u001b[0;36mContext.execute\u001b[0;34m(self, program)\u001b[0m\n\u001b[1;32m    136\u001b[0m \u001b[38;5;28;01mfor\u001b[39;00m arg, param \u001b[38;5;129;01min\u001b[39;00m \u001b[38;5;28mzip\u001b[39m(\u001b[38;5;28mself\u001b[39m\u001b[38;5;241m.\u001b[39mexpression\u001b[38;5;241m.\u001b[39marguments, function\u001b[38;5;241m.\u001b[39mparameters):\n\u001b[1;32m    137\u001b[0m     function_context\u001b[38;5;241m.\u001b[39msymbol_table[param\u001b[38;5;241m.\u001b[39mname] \u001b[38;5;241m=\u001b[39m \u001b[38;5;28mself\u001b[39m\u001b[38;5;241m.\u001b[39mexecute_sub(\n\u001b[1;32m    138\u001b[0m         arg, program\n\u001b[1;32m    139\u001b[0m     )\n\u001b[0;32m--> 141\u001b[0m results \u001b[38;5;241m=\u001b[39m \u001b[43mfunction_context\u001b[49m\u001b[38;5;241;43m.\u001b[39;49m\u001b[43mexecute\u001b[49m\u001b[43m(\u001b[49m\u001b[43mprogram\u001b[49m\u001b[43m)\u001b[49m\n\u001b[1;32m    142\u001b[0m \u001b[38;5;66;03m# Look for the Return statement in the results\u001b[39;00m\n\u001b[1;32m    143\u001b[0m \u001b[38;5;28;01mreturn\u001b[39;00m [\n\u001b[1;32m    144\u001b[0m     EvalResult(r\u001b[38;5;241m.\u001b[39mexpr_eval, r\u001b[38;5;241m.\u001b[39mpath_condition, \u001b[38;5;28;01mFalse\u001b[39;00m)\n\u001b[1;32m    145\u001b[0m     \u001b[38;5;28;01mfor\u001b[39;00m r \u001b[38;5;129;01min\u001b[39;00m \u001b[38;5;28mreversed\u001b[39m(results)\n\u001b[1;32m    146\u001b[0m     \u001b[38;5;28;01mif\u001b[39;00m r\u001b[38;5;241m.\u001b[39mis_return\n\u001b[1;32m    147\u001b[0m ]\n",
      "File \u001b[0;32m~/see-reach-py/seereach/context.py:80\u001b[0m, in \u001b[0;36mContext.execute\u001b[0;34m(self, program)\u001b[0m\n\u001b[1;32m     78\u001b[0m \u001b[38;5;28;01mfor\u001b[39;00m expression \u001b[38;5;129;01min\u001b[39;00m \u001b[38;5;28mself\u001b[39m\u001b[38;5;241m.\u001b[39mexpression\u001b[38;5;241m.\u001b[39mexpressions:\n\u001b[1;32m     79\u001b[0m     sub_context\u001b[38;5;241m.\u001b[39mexpression \u001b[38;5;241m=\u001b[39m expression\n\u001b[0;32m---> 80\u001b[0m     rets \u001b[38;5;241m=\u001b[39m \u001b[43msub_context\u001b[49m\u001b[38;5;241;43m.\u001b[39;49m\u001b[43mexecute\u001b[49m\u001b[43m(\u001b[49m\u001b[43mprogram\u001b[49m\u001b[43m)\u001b[49m\n\u001b[1;32m     81\u001b[0m     \u001b[38;5;28;01mfor\u001b[39;00m ret \u001b[38;5;129;01min\u001b[39;00m rets:\n\u001b[1;32m     82\u001b[0m         \u001b[38;5;28;01mif\u001b[39;00m \u001b[38;5;28misinstance\u001b[39m(ret\u001b[38;5;241m.\u001b[39mexpr_eval, Return):\n",
      "File \u001b[0;32m~/see-reach-py/seereach/context.py:71\u001b[0m, in \u001b[0;36mContext.execute\u001b[0;34m(self, program)\u001b[0m\n\u001b[1;32m     62\u001b[0m     \u001b[38;5;28;01mreturn\u001b[39;00m [\n\u001b[1;32m     63\u001b[0m         EvalResult(\n\u001b[1;32m     64\u001b[0m             evalr\u001b[38;5;241m.\u001b[39mexpr_eval, \u001b[38;5;28mself\u001b[39m\u001b[38;5;241m.\u001b[39mpath_condition \u001b[38;5;241m+\u001b[39m evalr\u001b[38;5;241m.\u001b[39mpath_condition\n\u001b[1;32m     65\u001b[0m         )\u001b[38;5;241m.\u001b[39mflatten()\n\u001b[1;32m     66\u001b[0m         \u001b[38;5;28;01mfor\u001b[39;00m evalr \u001b[38;5;129;01min\u001b[39;00m \u001b[38;5;28mself\u001b[39m\u001b[38;5;241m.\u001b[39msymbol_table[\u001b[38;5;28mself\u001b[39m\u001b[38;5;241m.\u001b[39mexpression\u001b[38;5;241m.\u001b[39mname]\n\u001b[1;32m     67\u001b[0m     ]\n\u001b[1;32m     69\u001b[0m \u001b[38;5;28;01melif\u001b[39;00m \u001b[38;5;28misinstance\u001b[39m(\u001b[38;5;28mself\u001b[39m\u001b[38;5;241m.\u001b[39mexpression, Assignment):\n\u001b[1;32m     70\u001b[0m     \u001b[38;5;66;03m# assignments update the symbol table in the current context and return nothing\u001b[39;00m\n\u001b[0;32m---> 71\u001b[0m     values \u001b[38;5;241m=\u001b[39m \u001b[38;5;28;43mself\u001b[39;49m\u001b[38;5;241;43m.\u001b[39;49m\u001b[43mexecute_sub\u001b[49m\u001b[43m(\u001b[49m\u001b[38;5;28;43mself\u001b[39;49m\u001b[38;5;241;43m.\u001b[39;49m\u001b[43mexpression\u001b[49m\u001b[38;5;241;43m.\u001b[39;49m\u001b[43mexpression\u001b[49m\u001b[43m,\u001b[49m\u001b[43m \u001b[49m\u001b[43mprogram\u001b[49m\u001b[43m)\u001b[49m\n\u001b[1;32m     72\u001b[0m     \u001b[38;5;28mself\u001b[39m\u001b[38;5;241m.\u001b[39msymbol_table[\u001b[38;5;28mself\u001b[39m\u001b[38;5;241m.\u001b[39mexpression\u001b[38;5;241m.\u001b[39mvariable\u001b[38;5;241m.\u001b[39mname] \u001b[38;5;241m=\u001b[39m values\n\u001b[1;32m     73\u001b[0m     \u001b[38;5;28;01mreturn\u001b[39;00m values\n",
      "File \u001b[0;32m~/see-reach-py/seereach/context.py:263\u001b[0m, in \u001b[0;36mContext.execute_sub\u001b[0;34m(self, expression, program)\u001b[0m\n\u001b[1;32m    261\u001b[0m \u001b[38;5;28;01mdef\u001b[39;00m \u001b[38;5;21mexecute_sub\u001b[39m(\u001b[38;5;28mself\u001b[39m, expression: Expression, program: Program):\n\u001b[1;32m    262\u001b[0m     sub_context \u001b[38;5;241m=\u001b[39m Context(expression, \u001b[38;5;28mself\u001b[39m, \u001b[38;5;28mself\u001b[39m\u001b[38;5;241m.\u001b[39mpath_condition)\n\u001b[0;32m--> 263\u001b[0m     \u001b[38;5;28;01mreturn\u001b[39;00m \u001b[43msub_context\u001b[49m\u001b[38;5;241;43m.\u001b[39;49m\u001b[43mexecute\u001b[49m\u001b[43m(\u001b[49m\u001b[43mprogram\u001b[49m\u001b[43m)\u001b[49m\n",
      "File \u001b[0;32m~/see-reach-py/seereach/context.py:141\u001b[0m, in \u001b[0;36mContext.execute\u001b[0;34m(self, program)\u001b[0m\n\u001b[1;32m    136\u001b[0m \u001b[38;5;28;01mfor\u001b[39;00m arg, param \u001b[38;5;129;01min\u001b[39;00m \u001b[38;5;28mzip\u001b[39m(\u001b[38;5;28mself\u001b[39m\u001b[38;5;241m.\u001b[39mexpression\u001b[38;5;241m.\u001b[39marguments, function\u001b[38;5;241m.\u001b[39mparameters):\n\u001b[1;32m    137\u001b[0m     function_context\u001b[38;5;241m.\u001b[39msymbol_table[param\u001b[38;5;241m.\u001b[39mname] \u001b[38;5;241m=\u001b[39m \u001b[38;5;28mself\u001b[39m\u001b[38;5;241m.\u001b[39mexecute_sub(\n\u001b[1;32m    138\u001b[0m         arg, program\n\u001b[1;32m    139\u001b[0m     )\n\u001b[0;32m--> 141\u001b[0m results \u001b[38;5;241m=\u001b[39m \u001b[43mfunction_context\u001b[49m\u001b[38;5;241;43m.\u001b[39;49m\u001b[43mexecute\u001b[49m\u001b[43m(\u001b[49m\u001b[43mprogram\u001b[49m\u001b[43m)\u001b[49m\n\u001b[1;32m    142\u001b[0m \u001b[38;5;66;03m# Look for the Return statement in the results\u001b[39;00m\n\u001b[1;32m    143\u001b[0m \u001b[38;5;28;01mreturn\u001b[39;00m [\n\u001b[1;32m    144\u001b[0m     EvalResult(r\u001b[38;5;241m.\u001b[39mexpr_eval, r\u001b[38;5;241m.\u001b[39mpath_condition, \u001b[38;5;28;01mFalse\u001b[39;00m)\n\u001b[1;32m    145\u001b[0m     \u001b[38;5;28;01mfor\u001b[39;00m r \u001b[38;5;129;01min\u001b[39;00m \u001b[38;5;28mreversed\u001b[39m(results)\n\u001b[1;32m    146\u001b[0m     \u001b[38;5;28;01mif\u001b[39;00m r\u001b[38;5;241m.\u001b[39mis_return\n\u001b[1;32m    147\u001b[0m ]\n",
      "File \u001b[0;32m~/see-reach-py/seereach/context.py:80\u001b[0m, in \u001b[0;36mContext.execute\u001b[0;34m(self, program)\u001b[0m\n\u001b[1;32m     78\u001b[0m \u001b[38;5;28;01mfor\u001b[39;00m expression \u001b[38;5;129;01min\u001b[39;00m \u001b[38;5;28mself\u001b[39m\u001b[38;5;241m.\u001b[39mexpression\u001b[38;5;241m.\u001b[39mexpressions:\n\u001b[1;32m     79\u001b[0m     sub_context\u001b[38;5;241m.\u001b[39mexpression \u001b[38;5;241m=\u001b[39m expression\n\u001b[0;32m---> 80\u001b[0m     rets \u001b[38;5;241m=\u001b[39m \u001b[43msub_context\u001b[49m\u001b[38;5;241;43m.\u001b[39;49m\u001b[43mexecute\u001b[49m\u001b[43m(\u001b[49m\u001b[43mprogram\u001b[49m\u001b[43m)\u001b[49m\n\u001b[1;32m     81\u001b[0m     \u001b[38;5;28;01mfor\u001b[39;00m ret \u001b[38;5;129;01min\u001b[39;00m rets:\n\u001b[1;32m     82\u001b[0m         \u001b[38;5;28;01mif\u001b[39;00m \u001b[38;5;28misinstance\u001b[39m(ret\u001b[38;5;241m.\u001b[39mexpr_eval, Return):\n",
      "File \u001b[0;32m~/see-reach-py/seereach/context.py:71\u001b[0m, in \u001b[0;36mContext.execute\u001b[0;34m(self, program)\u001b[0m\n\u001b[1;32m     62\u001b[0m     \u001b[38;5;28;01mreturn\u001b[39;00m [\n\u001b[1;32m     63\u001b[0m         EvalResult(\n\u001b[1;32m     64\u001b[0m             evalr\u001b[38;5;241m.\u001b[39mexpr_eval, \u001b[38;5;28mself\u001b[39m\u001b[38;5;241m.\u001b[39mpath_condition \u001b[38;5;241m+\u001b[39m evalr\u001b[38;5;241m.\u001b[39mpath_condition\n\u001b[1;32m     65\u001b[0m         )\u001b[38;5;241m.\u001b[39mflatten()\n\u001b[1;32m     66\u001b[0m         \u001b[38;5;28;01mfor\u001b[39;00m evalr \u001b[38;5;129;01min\u001b[39;00m \u001b[38;5;28mself\u001b[39m\u001b[38;5;241m.\u001b[39msymbol_table[\u001b[38;5;28mself\u001b[39m\u001b[38;5;241m.\u001b[39mexpression\u001b[38;5;241m.\u001b[39mname]\n\u001b[1;32m     67\u001b[0m     ]\n\u001b[1;32m     69\u001b[0m \u001b[38;5;28;01melif\u001b[39;00m \u001b[38;5;28misinstance\u001b[39m(\u001b[38;5;28mself\u001b[39m\u001b[38;5;241m.\u001b[39mexpression, Assignment):\n\u001b[1;32m     70\u001b[0m     \u001b[38;5;66;03m# assignments update the symbol table in the current context and return nothing\u001b[39;00m\n\u001b[0;32m---> 71\u001b[0m     values \u001b[38;5;241m=\u001b[39m \u001b[38;5;28;43mself\u001b[39;49m\u001b[38;5;241;43m.\u001b[39;49m\u001b[43mexecute_sub\u001b[49m\u001b[43m(\u001b[49m\u001b[38;5;28;43mself\u001b[39;49m\u001b[38;5;241;43m.\u001b[39;49m\u001b[43mexpression\u001b[49m\u001b[38;5;241;43m.\u001b[39;49m\u001b[43mexpression\u001b[49m\u001b[43m,\u001b[49m\u001b[43m \u001b[49m\u001b[43mprogram\u001b[49m\u001b[43m)\u001b[49m\n\u001b[1;32m     72\u001b[0m     \u001b[38;5;28mself\u001b[39m\u001b[38;5;241m.\u001b[39msymbol_table[\u001b[38;5;28mself\u001b[39m\u001b[38;5;241m.\u001b[39mexpression\u001b[38;5;241m.\u001b[39mvariable\u001b[38;5;241m.\u001b[39mname] \u001b[38;5;241m=\u001b[39m values\n\u001b[1;32m     73\u001b[0m     \u001b[38;5;28;01mreturn\u001b[39;00m values\n",
      "File \u001b[0;32m~/see-reach-py/seereach/context.py:263\u001b[0m, in \u001b[0;36mContext.execute_sub\u001b[0;34m(self, expression, program)\u001b[0m\n\u001b[1;32m    261\u001b[0m \u001b[38;5;28;01mdef\u001b[39;00m \u001b[38;5;21mexecute_sub\u001b[39m(\u001b[38;5;28mself\u001b[39m, expression: Expression, program: Program):\n\u001b[1;32m    262\u001b[0m     sub_context \u001b[38;5;241m=\u001b[39m Context(expression, \u001b[38;5;28mself\u001b[39m, \u001b[38;5;28mself\u001b[39m\u001b[38;5;241m.\u001b[39mpath_condition)\n\u001b[0;32m--> 263\u001b[0m     \u001b[38;5;28;01mreturn\u001b[39;00m \u001b[43msub_context\u001b[49m\u001b[38;5;241;43m.\u001b[39;49m\u001b[43mexecute\u001b[49m\u001b[43m(\u001b[49m\u001b[43mprogram\u001b[49m\u001b[43m)\u001b[49m\n",
      "File \u001b[0;32m~/see-reach-py/seereach/context.py:151\u001b[0m, in \u001b[0;36mContext.execute\u001b[0;34m(self, program)\u001b[0m\n\u001b[1;32m    149\u001b[0m \u001b[38;5;28;01melif\u001b[39;00m \u001b[38;5;28misinstance\u001b[39m(\u001b[38;5;28mself\u001b[39m\u001b[38;5;241m.\u001b[39mexpression, BinaryOp):\n\u001b[1;32m    150\u001b[0m     rets \u001b[38;5;241m=\u001b[39m []\n\u001b[0;32m--> 151\u001b[0m     left_values \u001b[38;5;241m=\u001b[39m \u001b[38;5;28;43mself\u001b[39;49m\u001b[38;5;241;43m.\u001b[39;49m\u001b[43mexecute_sub\u001b[49m\u001b[43m(\u001b[49m\u001b[38;5;28;43mself\u001b[39;49m\u001b[38;5;241;43m.\u001b[39;49m\u001b[43mexpression\u001b[49m\u001b[38;5;241;43m.\u001b[39;49m\u001b[43mleft\u001b[49m\u001b[43m,\u001b[49m\u001b[43m \u001b[49m\u001b[43mprogram\u001b[49m\u001b[43m)\u001b[49m\n\u001b[1;32m    152\u001b[0m     right_values \u001b[38;5;241m=\u001b[39m \u001b[38;5;28mself\u001b[39m\u001b[38;5;241m.\u001b[39mexecute_sub(\u001b[38;5;28mself\u001b[39m\u001b[38;5;241m.\u001b[39mexpression\u001b[38;5;241m.\u001b[39mright, program)\n\u001b[1;32m    153\u001b[0m     \u001b[38;5;28;01mfor\u001b[39;00m left_value \u001b[38;5;129;01min\u001b[39;00m left_values:\n",
      "File \u001b[0;32m~/see-reach-py/seereach/context.py:263\u001b[0m, in \u001b[0;36mContext.execute_sub\u001b[0;34m(self, expression, program)\u001b[0m\n\u001b[1;32m    261\u001b[0m \u001b[38;5;28;01mdef\u001b[39;00m \u001b[38;5;21mexecute_sub\u001b[39m(\u001b[38;5;28mself\u001b[39m, expression: Expression, program: Program):\n\u001b[1;32m    262\u001b[0m     sub_context \u001b[38;5;241m=\u001b[39m Context(expression, \u001b[38;5;28mself\u001b[39m, \u001b[38;5;28mself\u001b[39m\u001b[38;5;241m.\u001b[39mpath_condition)\n\u001b[0;32m--> 263\u001b[0m     \u001b[38;5;28;01mreturn\u001b[39;00m \u001b[43msub_context\u001b[49m\u001b[38;5;241;43m.\u001b[39;49m\u001b[43mexecute\u001b[49m\u001b[43m(\u001b[49m\u001b[43mprogram\u001b[49m\u001b[43m)\u001b[49m\n",
      "File \u001b[0;32m~/see-reach-py/seereach/context.py:151\u001b[0m, in \u001b[0;36mContext.execute\u001b[0;34m(self, program)\u001b[0m\n\u001b[1;32m    149\u001b[0m \u001b[38;5;28;01melif\u001b[39;00m \u001b[38;5;28misinstance\u001b[39m(\u001b[38;5;28mself\u001b[39m\u001b[38;5;241m.\u001b[39mexpression, BinaryOp):\n\u001b[1;32m    150\u001b[0m     rets \u001b[38;5;241m=\u001b[39m []\n\u001b[0;32m--> 151\u001b[0m     left_values \u001b[38;5;241m=\u001b[39m \u001b[38;5;28;43mself\u001b[39;49m\u001b[38;5;241;43m.\u001b[39;49m\u001b[43mexecute_sub\u001b[49m\u001b[43m(\u001b[49m\u001b[38;5;28;43mself\u001b[39;49m\u001b[38;5;241;43m.\u001b[39;49m\u001b[43mexpression\u001b[49m\u001b[38;5;241;43m.\u001b[39;49m\u001b[43mleft\u001b[49m\u001b[43m,\u001b[49m\u001b[43m \u001b[49m\u001b[43mprogram\u001b[49m\u001b[43m)\u001b[49m\n\u001b[1;32m    152\u001b[0m     right_values \u001b[38;5;241m=\u001b[39m \u001b[38;5;28mself\u001b[39m\u001b[38;5;241m.\u001b[39mexecute_sub(\u001b[38;5;28mself\u001b[39m\u001b[38;5;241m.\u001b[39mexpression\u001b[38;5;241m.\u001b[39mright, program)\n\u001b[1;32m    153\u001b[0m     \u001b[38;5;28;01mfor\u001b[39;00m left_value \u001b[38;5;129;01min\u001b[39;00m left_values:\n",
      "File \u001b[0;32m~/see-reach-py/seereach/context.py:263\u001b[0m, in \u001b[0;36mContext.execute_sub\u001b[0;34m(self, expression, program)\u001b[0m\n\u001b[1;32m    261\u001b[0m \u001b[38;5;28;01mdef\u001b[39;00m \u001b[38;5;21mexecute_sub\u001b[39m(\u001b[38;5;28mself\u001b[39m, expression: Expression, program: Program):\n\u001b[1;32m    262\u001b[0m     sub_context \u001b[38;5;241m=\u001b[39m Context(expression, \u001b[38;5;28mself\u001b[39m, \u001b[38;5;28mself\u001b[39m\u001b[38;5;241m.\u001b[39mpath_condition)\n\u001b[0;32m--> 263\u001b[0m     \u001b[38;5;28;01mreturn\u001b[39;00m \u001b[43msub_context\u001b[49m\u001b[38;5;241;43m.\u001b[39;49m\u001b[43mexecute\u001b[49m\u001b[43m(\u001b[49m\u001b[43mprogram\u001b[49m\u001b[43m)\u001b[49m\n",
      "File \u001b[0;32m~/see-reach-py/seereach/context.py:152\u001b[0m, in \u001b[0;36mContext.execute\u001b[0;34m(self, program)\u001b[0m\n\u001b[1;32m    150\u001b[0m rets \u001b[38;5;241m=\u001b[39m []\n\u001b[1;32m    151\u001b[0m left_values \u001b[38;5;241m=\u001b[39m \u001b[38;5;28mself\u001b[39m\u001b[38;5;241m.\u001b[39mexecute_sub(\u001b[38;5;28mself\u001b[39m\u001b[38;5;241m.\u001b[39mexpression\u001b[38;5;241m.\u001b[39mleft, program)\n\u001b[0;32m--> 152\u001b[0m right_values \u001b[38;5;241m=\u001b[39m \u001b[38;5;28;43mself\u001b[39;49m\u001b[38;5;241;43m.\u001b[39;49m\u001b[43mexecute_sub\u001b[49m\u001b[43m(\u001b[49m\u001b[38;5;28;43mself\u001b[39;49m\u001b[38;5;241;43m.\u001b[39;49m\u001b[43mexpression\u001b[49m\u001b[38;5;241;43m.\u001b[39;49m\u001b[43mright\u001b[49m\u001b[43m,\u001b[49m\u001b[43m \u001b[49m\u001b[43mprogram\u001b[49m\u001b[43m)\u001b[49m\n\u001b[1;32m    153\u001b[0m \u001b[38;5;28;01mfor\u001b[39;00m left_value \u001b[38;5;129;01min\u001b[39;00m left_values:\n\u001b[1;32m    154\u001b[0m     \u001b[38;5;28;01mfor\u001b[39;00m right_value \u001b[38;5;129;01min\u001b[39;00m right_values:\n",
      "File \u001b[0;32m~/see-reach-py/seereach/context.py:263\u001b[0m, in \u001b[0;36mContext.execute_sub\u001b[0;34m(self, expression, program)\u001b[0m\n\u001b[1;32m    261\u001b[0m \u001b[38;5;28;01mdef\u001b[39;00m \u001b[38;5;21mexecute_sub\u001b[39m(\u001b[38;5;28mself\u001b[39m, expression: Expression, program: Program):\n\u001b[1;32m    262\u001b[0m     sub_context \u001b[38;5;241m=\u001b[39m Context(expression, \u001b[38;5;28mself\u001b[39m, \u001b[38;5;28mself\u001b[39m\u001b[38;5;241m.\u001b[39mpath_condition)\n\u001b[0;32m--> 263\u001b[0m     \u001b[38;5;28;01mreturn\u001b[39;00m \u001b[43msub_context\u001b[49m\u001b[38;5;241;43m.\u001b[39;49m\u001b[43mexecute\u001b[49m\u001b[43m(\u001b[49m\u001b[43mprogram\u001b[49m\u001b[43m)\u001b[49m\n",
      "File \u001b[0;32m~/see-reach-py/seereach/context.py:66\u001b[0m, in \u001b[0;36mContext.execute\u001b[0;34m(self, program)\u001b[0m\n\u001b[1;32m     59\u001b[0m     \u001b[38;5;28;01mreturn\u001b[39;00m [EvalResult(\u001b[38;5;28mself\u001b[39m\u001b[38;5;241m.\u001b[39mexpression, \u001b[38;5;28mself\u001b[39m\u001b[38;5;241m.\u001b[39mpath_condition)\u001b[38;5;241m.\u001b[39mflatten()]\n\u001b[1;32m     61\u001b[0m \u001b[38;5;28;01melif\u001b[39;00m \u001b[38;5;28misinstance\u001b[39m(\u001b[38;5;28mself\u001b[39m\u001b[38;5;241m.\u001b[39mexpression, Variable):\n\u001b[1;32m     62\u001b[0m     \u001b[38;5;28;01mreturn\u001b[39;00m [\n\u001b[1;32m     63\u001b[0m         EvalResult(\n\u001b[1;32m     64\u001b[0m             evalr\u001b[38;5;241m.\u001b[39mexpr_eval, \u001b[38;5;28mself\u001b[39m\u001b[38;5;241m.\u001b[39mpath_condition \u001b[38;5;241m+\u001b[39m evalr\u001b[38;5;241m.\u001b[39mpath_condition\n\u001b[1;32m     65\u001b[0m         )\u001b[38;5;241m.\u001b[39mflatten()\n\u001b[0;32m---> 66\u001b[0m         \u001b[38;5;28;01mfor\u001b[39;00m evalr \u001b[38;5;129;01min\u001b[39;00m \u001b[38;5;28;43mself\u001b[39;49m\u001b[38;5;241;43m.\u001b[39;49m\u001b[43msymbol_table\u001b[49m\u001b[43m[\u001b[49m\u001b[38;5;28;43mself\u001b[39;49m\u001b[38;5;241;43m.\u001b[39;49m\u001b[43mexpression\u001b[49m\u001b[38;5;241;43m.\u001b[39;49m\u001b[43mname\u001b[49m\u001b[43m]\u001b[49m\n\u001b[1;32m     67\u001b[0m     ]\n\u001b[1;32m     69\u001b[0m \u001b[38;5;28;01melif\u001b[39;00m \u001b[38;5;28misinstance\u001b[39m(\u001b[38;5;28mself\u001b[39m\u001b[38;5;241m.\u001b[39mexpression, Assignment):\n\u001b[1;32m     70\u001b[0m     \u001b[38;5;66;03m# assignments update the symbol table in the current context and return nothing\u001b[39;00m\n\u001b[1;32m     71\u001b[0m     values \u001b[38;5;241m=\u001b[39m \u001b[38;5;28mself\u001b[39m\u001b[38;5;241m.\u001b[39mexecute_sub(\u001b[38;5;28mself\u001b[39m\u001b[38;5;241m.\u001b[39mexpression\u001b[38;5;241m.\u001b[39mexpression, program)\n",
      "\u001b[0;31mKeyError\u001b[0m: Name('g')"
     ]
    }
   ],
   "source": [
    "# perform symbolic execution on the function\n",
    "from seereach.fanalysis import function_symbolic_execution\n",
    "from seereach.symlang import *\n",
    "from seereach.lang import *\n",
    "\n",
    "signature = [SVariable('theta', Type.REAL), SVariable('omega', Type.REAL)]\n",
    "\n",
    "# can also pass in a mix of concrete and symbolic\n",
    "signature = [\n",
    "    SVariable('theta', Type.REAL), \n",
    "    SVariable('omega', Type.REAL),\n",
    "    Literal(Value(Type.REAL, 1.0)), \n",
    "    Literal(Value(Type.REAL, 0.2))\n",
    "]\n",
    "\n",
    "r = function_symbolic_execution(program, 'pendulum_dynamics', signature )"
   ]
  },
  {
   "cell_type": "code",
   "execution_count": null,
   "id": "ffa79226",
   "metadata": {},
   "outputs": [],
   "source": [
    "# example analysis: simplify the contexts and print the system\n",
    "from seereach.result import EvalResult\n",
    "from seereach.sympyconvert import SymPyConverter\n",
    "import sympy as sp\n",
    "\n",
    "def simplify_evalresult(result: EvalResult):\n",
    "    \"\"\"apply a simplifier that connect the symbolic expression generated by the SEE to SymPy\"\"\"\n",
    "    from functools import reduce\n",
    "    spc = SymPyConverter()\n",
    "    # AND all the path conditions together\n",
    "    if len(result.path_condition) > 0:\n",
    "        condition = [spc.simplify(reduce(lambda x, y: SBinaryOp(x, Operator.AND, y), result.path_condition))]\n",
    "    else:\n",
    "        condition  = [True]\n",
    "    return EvalResult(\n",
    "        spc.simplify(result.expr_eval),\n",
    "        condition, \n",
    "        result.is_return,\n",
    "    )"
   ]
  },
  {
   "cell_type": "code",
   "execution_count": null,
   "id": "287d3953",
   "metadata": {},
   "outputs": [],
   "source": [
    "from IPython.display import display, Math\n",
    "\n",
    "# collect the lhs from the initial context\n",
    "spc = SymPyConverter()\n",
    "lhs = sp.latex(sp.Matrix([\n",
    "    sp.symbols(v.name) for v in signature \\\n",
    "    if isinstance(v, SVariable)]))\n",
    "\n",
    "# print the LaTeX equation\n",
    "for result in r:\n",
    "    rs = simplify_evalresult(result)\n",
    "    if len(rs.path_condition) > 0:\n",
    "        display(Math(spc.latex(rs.path_condition[0])))\n",
    "    display(Math(lhs + \"\\\\rightarrow\" + spc.latex(rs.expr_eval)))"
   ]
  },
  {
   "cell_type": "code",
   "execution_count": null,
   "id": "20bcbfc1",
   "metadata": {},
   "outputs": [],
   "source": []
  },
  {
   "cell_type": "code",
   "execution_count": null,
   "id": "fa8cd987",
   "metadata": {},
   "outputs": [],
   "source": []
  }
 ],
 "metadata": {
  "kernelspec": {
   "display_name": "Python 3 (ipykernel)",
   "language": "python",
   "name": "python3"
  },
  "language_info": {
   "codemirror_mode": {
    "name": "ipython",
    "version": 3
   },
   "file_extension": ".py",
   "mimetype": "text/x-python",
   "name": "python",
   "nbconvert_exporter": "python",
   "pygments_lexer": "ipython3",
   "version": "3.8.13"
  }
 },
 "nbformat": 4,
 "nbformat_minor": 5
}
